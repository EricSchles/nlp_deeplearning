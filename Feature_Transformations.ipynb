{
 "cells": [
  {
   "cell_type": "markdown",
   "metadata": {},
   "source": [
    "# Feature Transformations\n",
    "\n",
    "This tutorial features:\n",
    "* tokenization\n",
    "* stemming\n",
    "* lemmatization\n",
    "* tf-idf\n",
    "* encoders\n",
    "* decoders\n"
   ]
  },
  {
   "cell_type": "code",
   "execution_count": 7,
   "metadata": {
    "collapsed": false
   },
   "outputs": [
    {
     "name": "stdout",
     "output_type": "stream",
     "text": [
      "spacy tokens:\n",
      "[\n",
      ", Hello, there, ,, Karl, Marx, ;, how, are, you, doing, today, ?, Was, the, play, good, and, fun, ?, \n",
      ", Did, you, laugh, at, the, jokes, ,, filling, your, eyes, with, glee]\n",
      "nltk tokens:\n",
      "['Hello', 'there', ',', 'Karl', 'Marx', ';', 'how', 'are', 'you', 'doing', 'today', '?', 'Was', 'the', 'play', 'good', 'and', 'fun', '?', 'Did', 'you', 'laugh', 'at', 'the', 'jokes', ',', 'filling', 'your', 'eyes', 'with', 'glee']\n"
     ]
    }
   ],
   "source": [
    "#Tokenization\n",
    "import spacy\n",
    "from nltk.tokenize import word_tokenize\n",
    "\n",
    "sentence = \"\"\"\n",
    "Hello there, Karl Marx; how are you doing today? Was the play good and fun? \n",
    "Did you laugh at the jokes, filling your eyes with glee\"\"\"\n",
    "\n",
    "#In Spacy\n",
    "nlp = spacy.load(\"en\")\n",
    "doc = nlp(sentence)\n",
    "print(\"spacy tokens:\")\n",
    "tokens = list(doc)\n",
    "print(tokens)\n",
    "\n",
    "#In NLTK\n",
    "print(\"nltk tokens:\")\n",
    "print(word_tokenize(sentence))"
   ]
  },
  {
   "cell_type": "markdown",
   "metadata": {},
   "source": [
    "# Token Customization\n",
    "\n",
    "If you want to customize Spacy's tokenizer it's pretty straight forward:\n",
    "\n",
    "Just check out:\n",
    "\n",
    "* https://spacy.io/docs/usage/customizing-tokenizer\n",
    "* https://spacy.io/docs/api/tokenizer (api reference)\n",
    "\n",
    "How to do customization in NLTK:\n",
    "\n",
    "* http://stackoverflow.com/questions/3930267/nltk-custom-tokenizer-and-tagger\n",
    "* http://stackoverflow.com/questions/14095971/how-to-tweak-the-nltk-sentence-tokenizer\n",
    "* http://www.nltk.org/api/nltk.tokenize.html (api reference)"
   ]
  },
  {
   "cell_type": "code",
   "execution_count": 8,
   "metadata": {
    "collapsed": false
   },
   "outputs": [
    {
     "data": {
      "text/plain": [
       "'walk'"
      ]
     },
     "execution_count": 8,
     "metadata": {},
     "output_type": "execute_result"
    }
   ],
   "source": [
    "#Stemming\n",
    "\n",
    "from nltk.stem.porter import PorterStemmer\n",
    "stemmer = PorterStemmer()\n",
    "stemmer.stem('walking')\n",
    "#Note: Spacy doesn't have a stemmer"
   ]
  },
  {
   "cell_type": "code",
   "execution_count": 17,
   "metadata": {
    "collapsed": false
   },
   "outputs": [
    {
     "name": "stdout",
     "output_type": "stream",
     "text": [
      "dogs -> dog\n",
      "ponies -> pony\n",
      "Sentence parsed by NLTK\n",
      "This isn't a dogs and ponies show, after all!  We are barely making any molla...\n",
      "Sentence parsed by Spacy\n",
      "this be not a dog and pony show , after all !   -PRON- be barely make any molla ...\n"
     ]
    }
   ],
   "source": [
    "#Lemmatization\n",
    "\n",
    "#reference: https://nlp.stanford.edu/IR-book/html/htmledition/stemming-and-lemmatization-1.html\n",
    "\n",
    "sentence = \"This isn't a dogs and ponies show, after all!  We are barely making any molla...\" \n",
    "#NLTK\n",
    "from nltk.stem.wordnet import WordNetLemmatizer\n",
    "wnl = WordNetLemmatizer()\n",
    "print(\"dogs ->\",wnl.lemmatize('dogs'))\n",
    "print(\"ponies ->\",wnl.lemmatize('ponies'))\n",
    "print(\"Sentence parsed by NLTK\")\n",
    "print(wnl.lemmatize(sentence))\n",
    "\n",
    "#Spacy\n",
    "from spacy.en import English\n",
    "parser = English()\n",
    "parsedData = parser(sentence)\n",
    "print(\"Sentence parsed by Spacy\")\n",
    "print(\" \".join([token.lemma_ for token in parsedData]))\n",
    "    "
   ]
  },
  {
   "cell_type": "code",
   "execution_count": null,
   "metadata": {
    "collapsed": true
   },
   "outputs": [],
   "source": []
  }
 ],
 "metadata": {
  "kernelspec": {
   "display_name": "Python 3",
   "language": "python",
   "name": "python3"
  },
  "language_info": {
   "codemirror_mode": {
    "name": "ipython",
    "version": 3
   },
   "file_extension": ".py",
   "mimetype": "text/x-python",
   "name": "python",
   "nbconvert_exporter": "python",
   "pygments_lexer": "ipython3",
   "version": "3.5.0"
  }
 },
 "nbformat": 4,
 "nbformat_minor": 1
}
