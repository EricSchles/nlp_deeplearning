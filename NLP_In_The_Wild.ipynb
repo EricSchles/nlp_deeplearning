{
 "cells": [
  {
   "cell_type": "markdown",
   "metadata": {},
   "source": [
    "# Using Natural Language Processing to Solve Real Problems\n",
    "\n",
    "## Detecting domestic abuse online\n",
    "* http://nicschrading.com/project/thesis/\n",
    "* http://nicschrading.com/data/\n",
    "\n",
    "## Automatically analyzing books, because who reads anymore?\n",
    "* https://github.com/cytora/pycon-nlp-in-10-lines/blob/master/01_pride_and_predjudice.ipynb\n",
    "\n",
    "## Analysis of Terrorism\n",
    "* https://github.com/cytora/pycon-nlp-in-10-lines/blob/master/02_rand_dataset.ipynb\n",
    "\n",
    "## Analyzing Yelp to understand food\n",
    "* http://nbviewer.jupyter.org/github/skipgram/modern-nlp-in-python/blob/master/executable/Modern_NLP_in_Python.ipynb\n",
    "\n",
    "## Visual Question Answering\n",
    "* http://iamaaditya.github.io/2016/04/visual_question_answering_demo_notebook\n",
    "(This one really freaked me out)\n",
    "\n",
    "## Building a chatbot\n",
    "* https://explosion.ai/blog/chatbot-node-js-spacy\n",
    "\n",
    "## Intent Classification\n",
    "* https://blog.themusio.com/2016/07/18/musios-intent-classifier-2/\n",
    "(This is also absolutely crazy)\n",
    "\n",
    "## Fighting Slavery\n",
    "* https://github.com/EricSchles/csvconf_talk/tree/master/scraping_craigslist\n",
    "* https://github.com/EricSchles/investigator"
   ]
  },
  {
   "cell_type": "code",
   "execution_count": null,
   "metadata": {
    "collapsed": true
   },
   "outputs": [],
   "source": []
  }
 ],
 "metadata": {
  "kernelspec": {
   "display_name": "Python 3",
   "language": "python",
   "name": "python3"
  },
  "language_info": {
   "codemirror_mode": {
    "name": "ipython",
    "version": 3
   },
   "file_extension": ".py",
   "mimetype": "text/x-python",
   "name": "python",
   "nbconvert_exporter": "python",
   "pygments_lexer": "ipython3",
   "version": "3.5.0"
  }
 },
 "nbformat": 4,
 "nbformat_minor": 1
}
